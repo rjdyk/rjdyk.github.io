{
 "cells": [
  {
   "cell_type": "code",
   "execution_count": 1,
   "metadata": {},
   "outputs": [],
   "source": [
    "def setPlayerName():\n",
    "    return input(\"What is your name?\")"
   ]
  },
  {
   "cell_type": "code",
   "execution_count": 2,
   "metadata": {},
   "outputs": [],
   "source": [
    "def playerInput():\n",
    "    return int(input(\"What is your guess?\"))\n",
    "        "
   ]
  },
  {
   "cell_type": "code",
   "execution_count": 3,
   "metadata": {},
   "outputs": [],
   "source": [
    "def playGame():\n",
    "    playerName = setPlayerName()\n",
    "    \n",
    "    import random\n",
    "    correctGuess = random.randint(1, 101)\n",
    "    print(\"Guess the number the computer picked between 1 and 100\")\n",
    "    guess = 0\n",
    "    \n",
    "    while guess != correctGuess:\n",
    "        guess = playerInput()\n",
    "        \n",
    "        if guess > correctGuess:\n",
    "            print(\"Too high!\")\n",
    "        if guess < correctGuess:\n",
    "            print(\"Too low!\")\n",
    "            \n",
    "    print(\"Correct! \\tComputer's Number:\", correctGuess)\n",
    "    \n",
    "        \n",
    "    "
   ]
  },
  {
   "cell_type": "code",
   "execution_count": 4,
   "metadata": {},
   "outputs": [
    {
     "name": "stdout",
     "output_type": "stream",
     "text": [
      "What is your name?jonah\n",
      "Guess the number the computer picked between 1 and 100\n",
      "What is your guess?99\n",
      "Too high!\n",
      "What is your guess?72\n",
      "Too high!\n",
      "What is your guess?52\n",
      "Too low!\n",
      "What is your guess?62\n",
      "Too low!\n",
      "What is your guess?67\n",
      "Too low!\n",
      "What is your guess?69\n",
      "Too high!\n",
      "What is your guess?68\n",
      "Correct! \tComputer's Number: 68\n"
     ]
    }
   ],
   "source": [
    "playGame()"
   ]
  }
 ],
 "metadata": {
  "kernelspec": {
   "display_name": "Python 3",
   "language": "python",
   "name": "python3"
  },
  "language_info": {
   "codemirror_mode": {
    "name": "ipython",
    "version": 3
   },
   "file_extension": ".py",
   "mimetype": "text/x-python",
   "name": "python",
   "nbconvert_exporter": "python",
   "pygments_lexer": "ipython3",
   "version": "3.5.2"
  }
 },
 "nbformat": 4,
 "nbformat_minor": 2
}
