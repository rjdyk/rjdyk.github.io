{
 "cells": [
  {
   "cell_type": "markdown",
   "metadata": {},
   "source": [
    "### Week 3 Review"
   ]
  },
  {
   "cell_type": "markdown",
   "metadata": {},
   "source": [
    "Loops Challenges"
   ]
  },
  {
   "cell_type": "markdown",
   "metadata": {},
   "source": [
    "### Challenge 1:"
   ]
  },
  {
   "cell_type": "markdown",
   "metadata": {},
   "source": [
    "Write a program that defeats enemies (you choose how many!) Make sure to update one of your variables so that you don't make an infinite loop!"
   ]
  },
  {
   "cell_type": "code",
   "execution_count": 1,
   "metadata": {},
   "outputs": [],
   "source": [
    "def defeat_enemy():\n",
    "    print(\"Enemy Defeated!\")"
   ]
  },
  {
   "cell_type": "code",
   "execution_count": 2,
   "metadata": {},
   "outputs": [
    {
     "ename": "SyntaxError",
     "evalue": "invalid syntax (<ipython-input-2-167c12c0d646>, line 2)",
     "output_type": "error",
     "traceback": [
      "\u001b[0;36m  File \u001b[0;32m\"<ipython-input-2-167c12c0d646>\"\u001b[0;36m, line \u001b[0;32m2\u001b[0m\n\u001b[0;31m    if CHANGE_THIS = \"February 25\":\u001b[0m\n\u001b[0m                   ^\u001b[0m\n\u001b[0;31mSyntaxError\u001b[0m\u001b[0;31m:\u001b[0m invalid syntax\n"
     ]
    }
   ],
   "source": [
    "counter = 0\n",
    "number_of_enemies = CHANGE_THIS # pick how many enemies you wish to face \n",
    "while counter < CHANGE_THIS: # use a variable here\n",
    "    defeat_enemy();\n",
    "    counter = CHANGE_THIS"
   ]
  },
  {
   "cell_type": "markdown",
   "metadata": {},
   "source": [
    "### Challenge 2: "
   ]
  },
  {
   "cell_type": "markdown",
   "metadata": {},
   "source": [
    "Finish this program that lets you eat your favorite snack! First specify how many of your favorite snack you have, then how many bites it takes to finish one. The loop will go through each of the snacks and print \"Chomp\" for the number of bites needed to finish it, then move on to the next snack. Example output looks like this:<br>\n",
    "    Chomp<br>\n",
    "    Chomp<br>\n",
    "    Delicious! I love popcorn!<br>\n",
    "    Chomp<br>\n",
    "    Chomp<br>\n",
    "    Delicious! I love popcorn!"
   ]
  },
  {
   "cell_type": "code",
   "execution_count": 3,
   "metadata": {},
   "outputs": [],
   "source": [
    "snack = \"popcorn\" # Change this to be your favorite snack or candy\n",
    "number_of_snacks = CHANGE_THIS # Pick how many snacks you have.\n",
    "number_of_chews_per_snack = CHANGE_THIS # For each snack, how many bites to finish it?\n",
    "number_of_chews_left = number_of_chews_per_snack\n",
    "while CHANGE_THIS > 0:\n",
    "    while number_of_chews_left > CHANGE_THIS: # What number should be here?\n",
    "        print(\"Chomp\")\n",
    "        number_of_chews_left = number_of_chews_left - 1\n",
    "    number_of_chews_left = CHANGE_THIS # Reset the number_of_chews_left\n",
    "    number_of_snacks = number_of_snacks - 1\n",
    "    print(\"Delicious! I love \" + snack + \"!\")\n",
    "        "
   ]
  }
 ],
 "metadata": {
  "kernelspec": {
   "display_name": "Python 3",
   "language": "python",
   "name": "python3"
  },
  "language_info": {
   "codemirror_mode": {
    "name": "ipython",
    "version": 3
   },
   "file_extension": ".py",
   "mimetype": "text/x-python",
   "name": "python",
   "nbconvert_exporter": "python",
   "pygments_lexer": "ipython3",
   "version": "3.6.7"
  }
 },
 "nbformat": 4,
 "nbformat_minor": 2
}
