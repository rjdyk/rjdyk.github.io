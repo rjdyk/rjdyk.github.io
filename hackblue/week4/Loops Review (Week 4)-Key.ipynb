{
 "cells": [
  {
   "cell_type": "markdown",
   "metadata": {},
   "source": [
    "### Week 3 Review"
   ]
  },
  {
   "cell_type": "markdown",
   "metadata": {},
   "source": [
    "Loops Challenges"
   ]
  },
  {
   "cell_type": "markdown",
   "metadata": {},
   "source": [
    "### Challenge 1:"
   ]
  },
  {
   "cell_type": "markdown",
   "metadata": {},
   "source": [
    "Write a program that defeats enemies (you choose how many!) Make sure to update one of your variables so that you don't make an infinite loop!"
   ]
  },
  {
   "cell_type": "code",
   "execution_count": 1,
   "metadata": {},
   "outputs": [],
   "source": [
    "def defeat_enemy():\n",
    "    print(\"Enemy Defeated!\")"
   ]
  },
  {
   "cell_type": "code",
   "execution_count": 3,
   "metadata": {},
   "outputs": [
    {
     "name": "stdout",
     "output_type": "stream",
     "text": [
      "Enemy Defeated!\n",
      "Enemy Defeated!\n",
      "Enemy Defeated!\n",
      "Enemy Defeated!\n",
      "Enemy Defeated!\n",
      "Enemy Defeated!\n",
      "Enemy Defeated!\n",
      "Enemy Defeated!\n",
      "Enemy Defeated!\n",
      "Enemy Defeated!\n"
     ]
    }
   ],
   "source": [
    "counter = 0\n",
    "number_of_enemies = 10 # pick how many enemies you wish to face \n",
    "while counter < number_of_enemies: # use a variable here\n",
    "    defeat_enemy();\n",
    "    counter = counter + 1"
   ]
  },
  {
   "cell_type": "markdown",
   "metadata": {},
   "source": [
    "### Challenge 2: "
   ]
  },
  {
   "cell_type": "markdown",
   "metadata": {},
   "source": [
    "Finish this program that lets you eat your favorite snack! First specify how many of your favorite snack you have, then how many bites it takes to finish one. The loop will go through each of the snacks and print \"Chomp\" for the number of bites needed to finish it, then move on to the next snack. Example output looks like this:<br>\n",
    "    Chomp<br>\n",
    "    Chomp<br>\n",
    "    Delicious! I love popcorn!<br>\n",
    "    Chomp<br>\n",
    "    Chomp<br>\n",
    "    Delicious! I love popcorn!"
   ]
  },
  {
   "cell_type": "code",
   "execution_count": 5,
   "metadata": {},
   "outputs": [
    {
     "name": "stdout",
     "output_type": "stream",
     "text": [
      "Chomp\n",
      "Chomp\n",
      "Delicious! I love popcorn!\n",
      "Chomp\n",
      "Chomp\n",
      "Delicious! I love popcorn!\n",
      "Chomp\n",
      "Chomp\n",
      "Delicious! I love popcorn!\n",
      "Chomp\n",
      "Chomp\n",
      "Delicious! I love popcorn!\n",
      "Chomp\n",
      "Chomp\n",
      "Delicious! I love popcorn!\n",
      "Chomp\n",
      "Chomp\n",
      "Delicious! I love popcorn!\n",
      "Chomp\n",
      "Chomp\n",
      "Delicious! I love popcorn!\n",
      "Chomp\n",
      "Chomp\n",
      "Delicious! I love popcorn!\n",
      "Chomp\n",
      "Chomp\n",
      "Delicious! I love popcorn!\n",
      "Chomp\n",
      "Chomp\n",
      "Delicious! I love popcorn!\n"
     ]
    }
   ],
   "source": [
    "snack = \"popcorn\" # Change this to be your favorite snack or candy\n",
    "number_of_snacks = 10 # Pick how many snacks you have.\n",
    "number_of_chews_per_snack = 2 # For each snack, how many bites to finish it?\n",
    "number_of_chews_left = number_of_chews_per_snack\n",
    "while number_of_snacks > 0:\n",
    "    while number_of_chews_left > 0: # What number should be here?\n",
    "        print(\"Chomp\")\n",
    "        number_of_chews_left = number_of_chews_left - 1\n",
    "    number_of_chews_left = number_of_chews_per_snack # Reset the number_of_chews_left\n",
    "    number_of_snacks = number_of_snacks - 1\n",
    "    print(\"Delicious! I love \" + snack + \"!\")\n",
    "        "
   ]
  },
  {
   "cell_type": "code",
   "execution_count": null,
   "metadata": {},
   "outputs": [],
   "source": []
  }
 ],
 "metadata": {
  "kernelspec": {
   "display_name": "Python 3",
   "language": "python",
   "name": "python3"
  },
  "language_info": {
   "codemirror_mode": {
    "name": "ipython",
    "version": 3
   },
   "file_extension": ".py",
   "mimetype": "text/x-python",
   "name": "python",
   "nbconvert_exporter": "python",
   "pygments_lexer": "ipython3",
   "version": "3.5.2"
  }
 },
 "nbformat": 4,
 "nbformat_minor": 2
}
