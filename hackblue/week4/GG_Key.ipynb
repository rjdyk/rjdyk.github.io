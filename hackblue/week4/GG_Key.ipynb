{
 "cells": [
  {
   "cell_type": "code",
   "execution_count": 1,
   "metadata": {},
   "outputs": [],
   "source": [
    "def setPlayerName():\n",
    "    return input(\"What is your name?\")"
   ]
  },
  {
   "cell_type": "code",
   "execution_count": 2,
   "metadata": {},
   "outputs": [],
   "source": [
    "def playerInput():\n",
    "    return int(input(\"What is your guess?\"))\n",
    "        "
   ]
  },
  {
   "cell_type": "code",
   "execution_count": 3,
   "metadata": {},
   "outputs": [],
   "source": [
    "def playGame():\n",
    "    playerName = setPlayerName()\n",
    "    \n",
    "    import random\n",
    "    correctGuess = random.randint(1, 101)\n",
    "    print(\"Guess the number the computer picked between 1 and 100\")\n",
    "    guess = 0\n",
    "    \n",
    "    #fill in the rest of the code!\n",
    "    #   HINT: Each time you loop, set guess \n",
    "    #   equal to playerInput(). Then, use two if\n",
    "    #   statements to determine if the player's \n",
    "    #   guess is too high or too low.\n",
    "    \n",
    "    #YOUR CODE GOES HERE\n",
    "    \n",
    "    \n",
    "    \n",
    "    print(\"Correct! \\tComputer's Number:\", correctGuess)\n",
    "    \n",
    "        \n",
    "    "
   ]
  },
  {
   "cell_type": "code",
   "execution_count": null,
   "metadata": {},
   "outputs": [],
   "source": [
    "playGame()"
   ]
  }
 ],
 "metadata": {
  "kernelspec": {
   "display_name": "Python 3",
   "language": "python",
   "name": "python3"
  },
  "language_info": {
   "codemirror_mode": {
    "name": "ipython",
    "version": 3
   },
   "file_extension": ".py",
   "mimetype": "text/x-python",
   "name": "python",
   "nbconvert_exporter": "python",
   "pygments_lexer": "ipython3",
   "version": "3.7.1"
  }
 },
 "nbformat": 4,
 "nbformat_minor": 2
}
