{
 "cells": [
  {
   "cell_type": "markdown",
   "metadata": {},
   "source": [
    "# Rock Paper Scissors"
   ]
  },
  {
   "cell_type": "code",
   "execution_count": 1,
   "metadata": {},
   "outputs": [],
   "source": [
    "def setPlayerName():\n",
    "    return input(\"What is your name\")"
   ]
  },
  {
   "cell_type": "code",
   "execution_count": 2,
   "metadata": {},
   "outputs": [],
   "source": [
    "def playerInput(name):\n",
    "    move = '';\n",
    "    while move not in ['R','P','S','Q']:\n",
    "        move = input('Will ' + name + ' play (R)ock, (P)aper, (S)cissors, or (Q)uit? ')\n",
    "    if move == 'R':\n",
    "        print(name,\"played Rock\")\n",
    "    if move == 'P':\n",
    "        print(name,\"played Paper\")\n",
    "    if move == 'S':\n",
    "        print(name,\"played Scissors\")\n",
    "    return move"
   ]
  },
  {
   "cell_type": "code",
   "execution_count": 3,
   "metadata": {},
   "outputs": [],
   "source": [
    "import random\n",
    "def computerInput():\n",
    "    move = random.randint(1,3)\n",
    "    if move == 1:\n",
    "        move = 'R'\n",
    "        print ('Computer played Rock')\n",
    "    elif move == 2:\n",
    "        move = 'P'\n",
    "        print ('Computer played Paper')\n",
    "    else:\n",
    "        move = 'S'\n",
    "        print ('Computer played Scissors')\n",
    "    return move"
   ]
  },
  {
   "cell_type": "code",
   "execution_count": 4,
   "metadata": {},
   "outputs": [],
   "source": [
    "import sys\n",
    "def playGame():\n",
    "    \n",
    "    playerName = setPlayerName()\n",
    "    playerWins = 0\n",
    "    computerWins = 0\n",
    "    \n",
    "    \n",
    "    while playerWins < 2 and computerWins < 2:\n",
    "        print(\"=========================\")\n",
    "        print(playerName,playerWins,\"\\tComputer:\",computerWins)\n",
    "        playerMove = playerInput(playerName)\n",
    "        computerMove = computerInput()\n",
    "\n",
    "        if playerMove == 'Q':\n",
    "            print(\"=====================\")\n",
    "            print(\"GAME OVER\")\n",
    "            return\n",
    "        \n",
    "        # Write logic here\n",
    "        if playerMove == computerMove:\n",
    "            print('DRAW')\n",
    "\n",
    "        if playerMove == 'R':\n",
    "            if computerMove == 'S':\n",
    "                print(playerName, \"Wins!\")\n",
    "                playerWins+=1\n",
    "            elif computerMove == 'P':\n",
    "                print('Computer Wins!')\n",
    "                computerWins+=1\n",
    "        if playerMove == 'S':\n",
    "            if computerMove == 'P':\n",
    "                print(playerName, \"Wins!\")\n",
    "                playerWins+=1\n",
    "            elif computerMove == 'R':\n",
    "                print('Computer Wins!')\n",
    "                computerWins+=1\n",
    "        if playerMove == 'P':\n",
    "            if computerMove == 'R':\n",
    "                print(playerName, \"Wins!\")\n",
    "                playerWins+=1\n",
    "            elif computerMove == 'S':\n",
    "                print('Computer Wins!')\n",
    "                computerWins+=1\n",
    "                \n",
    "    print(\"=========================\")\n",
    "    print(playerName,playerWins,\"\\tComputer:\",computerWins)\n",
    "    if playerWins > computerWins:\n",
    "        print(playerName, \"Wins!!!\")\n",
    "    else:\n",
    "        print(\"Computer Wins!!!\")\n",
    "    "
   ]
  },
  {
   "cell_type": "code",
   "execution_count": 7,
   "metadata": {},
   "outputs": [
    {
     "name": "stdout",
     "output_type": "stream",
     "text": [
      "What is your nameRoush\n",
      "=========================\n",
      "Roush 0 \tComputer: 0\n",
      "Will Roush play (R)ock, (P)aper, (S)cissors, or (Q)uit? R\n",
      "Roush played Rock\n",
      "Computer played Scissors\n",
      "Roush Wins!\n",
      "=========================\n",
      "Roush 1 \tComputer: 0\n",
      "Will Roush play (R)ock, (P)aper, (S)cissors, or (Q)uit? S\n",
      "Roush played Scissors\n",
      "Computer played Scissors\n",
      "DRAW\n",
      "=========================\n",
      "Roush 1 \tComputer: 0\n",
      "Will Roush play (R)ock, (P)aper, (S)cissors, or (Q)uit? P\n",
      "Roush played Paper\n",
      "Computer played Rock\n",
      "Roush Wins!\n",
      "=========================\n",
      "Roush 2 \tComputer: 0\n",
      "Roush Wins!!!\n"
     ]
    }
   ],
   "source": [
    "playGame()"
   ]
  },
  {
   "cell_type": "markdown",
   "metadata": {},
   "source": [
    "# Extra"
   ]
  },
  {
   "cell_type": "markdown",
   "metadata": {},
   "source": [
    "If you have time, write in a cheat so that if the player's name is 'Jeremiah' the computer always plays scissors. (HINT: Use an if statement to check the name of the player)"
   ]
  }
 ],
 "metadata": {
  "kernelspec": {
   "display_name": "Python 3",
   "language": "python",
   "name": "python3"
  },
  "language_info": {
   "codemirror_mode": {
    "name": "ipython",
    "version": 3
   },
   "file_extension": ".py",
   "mimetype": "text/x-python",
   "name": "python",
   "nbconvert_exporter": "python",
   "pygments_lexer": "ipython3",
   "version": "3.5.2"
  }
 },
 "nbformat": 4,
 "nbformat_minor": 2
}
