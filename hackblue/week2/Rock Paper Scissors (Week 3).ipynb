{
 "cells": [
  {
   "cell_type": "markdown",
   "metadata": {},
   "source": [
    "# Rock Paper Scissors"
   ]
  },
  {
   "cell_type": "code",
   "execution_count": 2,
   "metadata": {},
   "outputs": [],
   "source": [
    "def setPlayerName():\n",
    "    return input(\"What is your name\")"
   ]
  },
  {
   "cell_type": "code",
   "execution_count": 3,
   "metadata": {},
   "outputs": [],
   "source": [
    "def playerInput(name):\n",
    "    move = '';\n",
    "    while move not in ['R','P','S','Q']:\n",
    "        move = input('Will ' + name + ' play (R)ock, (P)aper, (S)cissors, or (Q)uit? ')\n",
    "    if move == 'R':\n",
    "        print(name,\"played Rock\")\n",
    "    if move == 'P':\n",
    "        print(name,\"played Paper\")\n",
    "    if move == 'S':\n",
    "        print(name,\"played Scissors\")\n",
    "    return move"
   ]
  },
  {
   "cell_type": "code",
   "execution_count": 4,
   "metadata": {},
   "outputs": [],
   "source": [
    "import random\n",
    "def computerInput():\n",
    "    move = random.randint(1,3)\n",
    "    if move == 1:\n",
    "        move = 'R'\n",
    "        print ('Computer played Rock')\n",
    "    elif move == 2:\n",
    "        move = 'P'\n",
    "        print ('Computer played Paper')\n",
    "    else:\n",
    "        move = 'S'\n",
    "        print ('Computer played Scissors')\n",
    "    return move"
   ]
  },
  {
   "cell_type": "code",
   "execution_count": 5,
   "metadata": {},
   "outputs": [],
   "source": [
    "import sys\n",
    "def playGame():\n",
    "    \n",
    "    playerName = setPlayerName()\n",
    "    \n",
    "    print(\"=========================\")\n",
    "    playerMove = playerInput(playerName)\n",
    "    computerMove = computerInput()\n",
    "\n",
    "    if playerMove == 'Q':\n",
    "        print(\"=====================\")\n",
    "        print(\"GAME OVER\")\n",
    "        return\n",
    "\n",
    "    #========================================\n",
    "    # Write logic here\n",
    "    if playerMove == computerMove:\n",
    "        print('DRAW')\n",
    "\n",
    "    CHANGE_THIS = \"\"    \n",
    "        \n",
    "    if CHANGE_THIS == CHANGE_THIS:\n",
    "        if CHANGE_THIS == CHANGE_THIS:\n",
    "            print(playerName, \"Wins!\")\n",
    "        elif CHANGE_THIS == CHANGE_THIS:\n",
    "            print('Computer Wins!')\n",
    "\n",
    "    #=========================================\n",
    "\n",
    "    "
   ]
  },
  {
   "cell_type": "code",
   "execution_count": null,
   "metadata": {},
   "outputs": [],
   "source": [
    "playGame()"
   ]
  },
  {
   "cell_type": "code",
   "execution_count": null,
   "metadata": {},
   "outputs": [],
   "source": []
  },
  {
   "cell_type": "code",
   "execution_count": null,
   "metadata": {},
   "outputs": [],
   "source": []
  }
 ],
 "metadata": {
  "kernelspec": {
   "display_name": "Python 3",
   "language": "python",
   "name": "python3"
  },
  "language_info": {
   "codemirror_mode": {
    "name": "ipython",
    "version": 3
   },
   "file_extension": ".py",
   "mimetype": "text/x-python",
   "name": "python",
   "nbconvert_exporter": "python",
   "pygments_lexer": "ipython3",
   "version": "3.5.2"
  }
 },
 "nbformat": 4,
 "nbformat_minor": 2
}
